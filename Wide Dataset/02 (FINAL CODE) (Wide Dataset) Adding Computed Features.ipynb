{
 "cells": [
  {
   "cell_type": "code",
   "execution_count": 1,
   "metadata": {},
   "outputs": [],
   "source": [
    "import pandas as pd\n",
    "import numpy as np\n",
    "import time"
   ]
  },
  {
   "cell_type": "code",
   "execution_count": 2,
   "metadata": {},
   "outputs": [],
   "source": [
    "merged = pd.read_csv(\"Wide_Simple_V1.csv\")"
   ]
  },
  {
   "cell_type": "code",
   "execution_count": 3,
   "metadata": {},
   "outputs": [],
   "source": [
    "merged['Date/Time'] = pd.to_datetime(merged[\"Date/Time\"], format='%Y-%m-%d %H:%M:%S')"
   ]
  },
  {
   "cell_type": "code",
   "execution_count": 4,
   "metadata": {},
   "outputs": [],
   "source": [
    "merged = merged.sort_values(by='Date/Time', ascending=False)\n",
    "merged = merged.reset_index(drop=True)"
   ]
  },
  {
   "cell_type": "code",
   "execution_count": 5,
   "metadata": {},
   "outputs": [],
   "source": [
    "merged['date_minus_1year'] = merged['Date/Time'].apply(lambda x: x - pd.DateOffset(years=1))"
   ]
  },
  {
   "cell_type": "markdown",
   "metadata": {},
   "source": [
    "## New Features"
   ]
  },
  {
   "cell_type": "code",
   "execution_count": 6,
   "metadata": {
    "scrolled": true
   },
   "outputs": [
    {
     "name": "stdout",
     "output_type": "stream",
     "text": [
      "0\n",
      "500\n",
      "1000\n",
      "1500\n",
      "2000\n",
      "2500\n",
      "3000\n",
      "3500\n",
      "4000\n",
      "4500\n",
      "5000\n",
      "5500\n",
      "6000\n",
      "6500\n",
      "7000\n",
      "7500\n",
      "8000\n",
      "8500\n",
      "9000\n",
      "43.04453285535177  minutes\n"
     ]
    }
   ],
   "source": [
    "deb = time.time()\n",
    "\n",
    "# Date when we stop computing the features (one year later than the earliest date)\n",
    "min_plus_1year = pd.to_datetime('17.06.1995',format='%d.%m.%Y')\n",
    "\n",
    "nb_matches1, nb_matches2 = [],[]\n",
    "\n",
    "goals_past1, goals_past2 = [],[]\n",
    "ratio_goals_past1, ratio_goals_past2 = [],[]\n",
    "\n",
    "nb_wins1, nb_wins2 = [],[]\n",
    "ratio_wins1, ratio_wins2 = [],[]\n",
    "nb_losses1, nb_losses2 = [],[]\n",
    "ratio_losses1, ratio_losses2 = [],[]\n",
    "nb_draws1, nb_draws2 = [],[]\n",
    "ratio_draws1, ratio_draws2 = [],[]\n",
    "\n",
    "nb_wins_opp1, nb_wins_opp2 = [],[]\n",
    "ratio_wins_opp1, ratio_wins_opp2 = [],[]\n",
    "nb_losses_opp1, nb_losses_opp2 = [],[]\n",
    "ratio_losses_opp1, ratio_losses_opp2 = [],[]\n",
    "nb_draws_opp1, nb_draws_opp2 = [],[]\n",
    "ratio_draws_opp1, ratio_draws_opp2 = [],[]\n",
    "\n",
    "for i in range(len(merged)):\n",
    "    if merged['Date/Time'][i] >= min_plus_1year: # One year so that we can compute the features for all the other dates\n",
    "        \n",
    "        # Initialize our variables\n",
    "        mat1, mat2 = 0,0  \n",
    "        g1,g2, g1_tot,g2_tot = 0,0,0,0\n",
    "        w1,w2, l1,l2, d1,d2, tot1,tot2 = 0,0,0,0,0,0,0,0\n",
    "        w1_opp,w2_opp, l1_opp,l2_opp, d1_opp,d2_opp, tot_opp = 0,0,0,0,0,0,0\n",
    "    \n",
    "        # Only consider the sub-dataframe between the given date and one year earlier\n",
    "        idx = list(np.array((merged.loc[merged['Date/Time'] < merged['Date/Time'][i]].index) & \n",
    "                            (merged.loc[merged['Date/Time'] >= merged['date_minus_1year'][i]].index)))\n",
    "        p = merged.iloc[idx]\n",
    "        p = p.reset_index(drop=True)\n",
    "    \n",
    "        # Iterate over the sub-dataframe\n",
    "        for j in range(len(p)):\n",
    "    \n",
    "            # Number of played matches\n",
    "        \n",
    "            if (merged[\"Team1\"][i] == p[\"Team1\"][j] or merged[\"Team1\"][i] == p[\"Team2\"][j]):\n",
    "                mat1 += 1\n",
    "            if (merged[\"Team2\"][i] == p[\"Team1\"][j] or merged[\"Team2\"][i] == p[\"Team2\"][j]):\n",
    "                mat2 += 1\n",
    "\n",
    "                \n",
    "            # (Relative) number of goals\n",
    "            \n",
    "            if merged[\"Team1\"][i] == p[\"Team1\"][j]:\n",
    "                g1 += p[\"Score1\"][j]\n",
    "                g1_tot += p[\"Score1\"][j]+p[\"Score2\"][j]\n",
    "            elif merged[\"Team1\"][i] == p[\"Team2\"][j]:\n",
    "                g1 += p[\"Score2\"][j]\n",
    "                g1_tot += p[\"Score1\"][j]+p[\"Score2\"][j]\n",
    "\n",
    "            if merged[\"Team2\"][i] == p[\"Team1\"][j]:\n",
    "                g2 += p[\"Score1\"][j]\n",
    "                g2_tot += p[\"Score1\"][j]+p[\"Score2\"][j]\n",
    "            elif merged[\"Team2\"][i] == p[\"Team2\"][j]:\n",
    "                g2 += p[\"Score2\"][j]\n",
    "                g2_tot += p[\"Score1\"][j]+p[\"Score2\"][j]\n",
    "\n",
    "                \n",
    "            # (Relative) number of wins / losses / draws (in general)\n",
    "            \n",
    "            if merged[\"Team1\"][i] == p[\"Team1\"][j]:\n",
    "                tot1 += 1\n",
    "                if p['Score1'][j] > p['Score2'][j]:\n",
    "                    w1 += 1\n",
    "                elif p['Score1'][j] < p['Score2'][j]:\n",
    "                    l1 += 1\n",
    "                else:\n",
    "                    d1 += 1\n",
    "            elif merged[\"Team1\"][i] == p[\"Team2\"][j]:\n",
    "                tot1 += 1\n",
    "                if p['Score2'][j] > p['Score1'][j]:\n",
    "                    w1 += 1\n",
    "                elif p['Score2'][j] < p['Score1'][j]:\n",
    "                    l1 += 1\n",
    "                else:\n",
    "                    d1 += 1\n",
    "                    \n",
    "            if merged[\"Team2\"][i] == p[\"Team1\"][j]:\n",
    "                tot2 += 1\n",
    "                if p['Score1'][j] > p['Score2'][j]:\n",
    "                    w2 += 1\n",
    "                elif p['Score1'][j] < p['Score2'][j]:\n",
    "                    l2 += 1\n",
    "                else:\n",
    "                    d2 += 1\n",
    "            elif merged[\"Team2\"][i] == p[\"Team2\"][j]:\n",
    "                tot2 += 1\n",
    "                if p['Score2'][j] > p['Score1'][j]:\n",
    "                    w2 += 1\n",
    "                elif p['Score2'][j] < p['Score1'][j]:\n",
    "                    l2 += 1\n",
    "                else:\n",
    "                    d2 += 1\n",
    "                    \n",
    "                    \n",
    "            # (Relative) number of wins / losses / draws (against opponent)\n",
    "\n",
    "            if merged[\"Team1\"][i] == p[\"Team1\"][j] and merged[\"Team2\"][i] == p[\"Team2\"][j]:\n",
    "                tot_opp += 1\n",
    "                if p['Score1'][j] > p['Score2'][j]:\n",
    "                    w1_opp += 1\n",
    "                    l2_opp += 1\n",
    "                elif p['Score1'][j] > p['Score2'][j]:\n",
    "                    l1_opp += 1\n",
    "                    w2_opp += 1\n",
    "                else:\n",
    "                    d1_opp += 1\n",
    "                    d2_opp += 1\n",
    "            elif merged[\"Team1\"][i] == p[\"Team2\"][j] and merged[\"Team2\"][i] == p[\"Team1\"][j]:\n",
    "                tot_opp += 1\n",
    "                if p['Score2'][j] > p['Score1'][j]:\n",
    "                    w1_opp += 1\n",
    "                    l2_opp += 1\n",
    "                elif p['Score2'][j] < p['Score1'][j]:\n",
    "                    l1_opp += 1\n",
    "                    w2_opp += 1\n",
    "                else:\n",
    "                    d1_opp += 1\n",
    "                    d2_opp += 1\n",
    "    \n",
    "        # Add our values\n",
    "        nb_matches1.append(mat1)\n",
    "        nb_matches2.append(mat2)\n",
    "        \n",
    "        goals_past1.append(g1)\n",
    "        goals_past2.append(g2)\n",
    "\n",
    "        if g1_tot == 0:\n",
    "            ratio_goals_past1.append(0)\n",
    "        else:\n",
    "            ratio_goals_past1.append(g1/g1_tot)\n",
    "        if g2_tot == 0:\n",
    "            ratio_goals_past2.append(0)\n",
    "        else:\n",
    "            ratio_goals_past2.append(g2/g2_tot)\n",
    "\n",
    "        nb_wins1.append(w1)\n",
    "        nb_wins2.append(w2)\n",
    "        nb_losses1.append(w1)\n",
    "        nb_losses2.append(w2)\n",
    "        nb_draws1.append(d1)\n",
    "        nb_draws2.append(d2)\n",
    "\n",
    "        if tot1 == 0:\n",
    "            ratio_wins1.append(0)\n",
    "            ratio_losses1.append(0)\n",
    "            ratio_draws1.append(0)\n",
    "        else:\n",
    "            ratio_wins1.append(w1/tot1)\n",
    "            ratio_losses1.append(l1/tot1)\n",
    "            ratio_draws1.append(d1/tot1)\n",
    "        if tot2 == 0:\n",
    "            ratio_wins2.append(0)\n",
    "            ratio_losses2.append(0)\n",
    "            ratio_draws2.append(0)\n",
    "        else:\n",
    "            ratio_wins2.append(w2/tot2)\n",
    "            ratio_losses2.append(l2/tot2)\n",
    "            ratio_draws2.append(d2/tot2)\n",
    "\n",
    "        nb_wins_opp1.append(w1_opp)\n",
    "        nb_wins_opp2.append(w2_opp)\n",
    "        nb_losses_opp1.append(l1_opp)\n",
    "        nb_losses_opp2.append(l2_opp)\n",
    "        nb_draws_opp1.append(d1_opp)\n",
    "        nb_draws_opp2.append(d2_opp)\n",
    "\n",
    "        if tot_opp == 0:\n",
    "            ratio_wins_opp1.append(0)\n",
    "            ratio_losses_opp1.append(0)\n",
    "            ratio_draws_opp1.append(0)\n",
    "            ratio_wins_opp2.append(0)\n",
    "            ratio_losses_opp2.append(0)\n",
    "            ratio_draws_opp2.append(0)\n",
    "        else:\n",
    "            ratio_wins_opp1.append(w1_opp/tot_opp)\n",
    "            ratio_losses_opp1.append(l1_opp/tot_opp)\n",
    "            ratio_draws_opp1.append(d1_opp/tot_opp)\n",
    "            ratio_wins_opp2.append(w2_opp/tot_opp)\n",
    "            ratio_losses_opp2.append(l2_opp/tot_opp)\n",
    "            ratio_draws_opp2.append(d2_opp/tot_opp)\n",
    "\n",
    "        if i%500 == 0:\n",
    "            print(i)\n",
    "    \n",
    "end = time.time()\n",
    "print((end-deb) / 60,\" minutes\")"
   ]
  },
  {
   "cell_type": "code",
   "execution_count": 7,
   "metadata": {},
   "outputs": [],
   "source": [
    "idx = list(np.array(merged.loc[merged['Date/Time'] >= min_plus_1year].index))\n",
    "result = merged.iloc[idx]\n",
    "result = result.reset_index(drop=True)"
   ]
  },
  {
   "cell_type": "code",
   "execution_count": 8,
   "metadata": {},
   "outputs": [],
   "source": [
    "result[\"nb_matches1\"] = nb_matches1\n",
    "result[\"nb_matches2\"] = nb_matches2\n",
    "\n",
    "result[\"goals_past1\"] = goals_past1\n",
    "result[\"goals_past2\"] = goals_past2\n",
    "result[\"ratio_goals_past1\"] = ratio_goals_past1\n",
    "result[\"ratio_goals_past2\"] = ratio_goals_past2\n",
    "\n",
    "result[\"nb_wins1\"] = nb_wins1\n",
    "result[\"nb_wins2\"] = nb_wins2\n",
    "result[\"ratio_wins1\"] = ratio_wins1\n",
    "result[\"ratio_wins2\"] = ratio_wins2\n",
    "\n",
    "result[\"nb_losses1\"] = nb_losses1\n",
    "result[\"nb_losses2\"] = nb_losses2\n",
    "result[\"ratio_losses1\"] = ratio_losses1\n",
    "result[\"ratio_losses2\"] = ratio_losses2\n",
    "\n",
    "result[\"nb_draws1\"] = nb_draws1\n",
    "result[\"nb_draws2\"] = nb_draws2\n",
    "result[\"ratio_draws1\"] = ratio_draws1\n",
    "result[\"ratio_draws2\"] = ratio_draws2\n",
    "\n",
    "result[\"nb_wins_opp1\"] = nb_wins_opp1\n",
    "result[\"nb_wins_opp2\"] = nb_wins_opp2\n",
    "result[\"ratio_wins_opp1\"] = ratio_wins_opp1\n",
    "result[\"ratio_wins_opp2\"] = ratio_wins_opp2\n",
    "\n",
    "result[\"nb_losses_opp1\"] = nb_losses_opp1\n",
    "result[\"nb_losses_opp2\"] = nb_losses_opp2\n",
    "result[\"ratio_losses_opp1\"] = ratio_losses_opp1\n",
    "result[\"ratio_losses_opp2\"] = ratio_losses_opp2\n",
    "\n",
    "result[\"nb_draws_opp1\"] = nb_draws_opp1\n",
    "result[\"nb_draws_opp2\"] = nb_draws_opp2\n",
    "result[\"ratio_draws_opp1\"] = ratio_draws_opp1\n",
    "result[\"ratio_draws_opp2\"] = ratio_draws_opp2"
   ]
  },
  {
   "cell_type": "code",
   "execution_count": 9,
   "metadata": {},
   "outputs": [],
   "source": [
    "result = result.drop(['date_minus_1year'],axis=1)"
   ]
  },
  {
   "cell_type": "code",
   "execution_count": 10,
   "metadata": {},
   "outputs": [],
   "source": [
    "result.to_csv(\"Wide_WithComputedFeatures_V2.csv\", index=False, encoding=\"utf-8\")"
   ]
  },
  {
   "cell_type": "code",
   "execution_count": 11,
   "metadata": {},
   "outputs": [
    {
     "data": {
      "text/plain": [
       "9127"
      ]
     },
     "execution_count": 11,
     "metadata": {},
     "output_type": "execute_result"
    }
   ],
   "source": [
    "len(merged)"
   ]
  },
  {
   "cell_type": "code",
   "execution_count": 12,
   "metadata": {},
   "outputs": [
    {
     "data": {
      "text/plain": [
       "9075"
      ]
     },
     "execution_count": 12,
     "metadata": {},
     "output_type": "execute_result"
    }
   ],
   "source": [
    "len(result)"
   ]
  },
  {
   "cell_type": "code",
   "execution_count": null,
   "metadata": {},
   "outputs": [],
   "source": []
  }
 ],
 "metadata": {
  "kernelspec": {
   "display_name": "Python 3",
   "language": "python",
   "name": "python3"
  },
  "language_info": {
   "codemirror_mode": {
    "name": "ipython",
    "version": 3
   },
   "file_extension": ".py",
   "mimetype": "text/x-python",
   "name": "python",
   "nbconvert_exporter": "python",
   "pygments_lexer": "ipython3",
   "version": "3.6.7"
  }
 },
 "nbformat": 4,
 "nbformat_minor": 2
}
