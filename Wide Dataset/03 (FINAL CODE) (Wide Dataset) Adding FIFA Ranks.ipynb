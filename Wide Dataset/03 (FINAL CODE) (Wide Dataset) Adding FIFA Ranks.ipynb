{
 "cells": [
  {
   "cell_type": "code",
   "execution_count": 1,
   "metadata": {},
   "outputs": [],
   "source": [
    "import pandas as pd\n",
    "import numpy as np"
   ]
  },
  {
   "cell_type": "code",
   "execution_count": 2,
   "metadata": {},
   "outputs": [],
   "source": [
    "ranks = pd.read_csv(\"Cleaned_Ranks.csv\")\n",
    "data = pd.read_csv(\"Wide_WithComputedFeatures_V2.csv\")"
   ]
  },
  {
   "cell_type": "code",
   "execution_count": 3,
   "metadata": {},
   "outputs": [],
   "source": [
    "ranks['Date'] = pd.to_datetime(ranks[\"Date\"], format='%Y-%m-%d')"
   ]
  },
  {
   "cell_type": "code",
   "execution_count": 4,
   "metadata": {},
   "outputs": [],
   "source": [
    "ranks = ranks.sort_values(by='Date', ascending=False)\n",
    "ranks = ranks.reset_index(drop=True)"
   ]
  },
  {
   "cell_type": "code",
   "execution_count": 5,
   "metadata": {},
   "outputs": [
    {
     "data": {
      "text/plain": [
       "{'Great Britain',\n",
       " 'Guadeloupe',\n",
       " 'Martinique',\n",
       " 'Mayotte',\n",
       " 'Monaco',\n",
       " 'Reunion',\n",
       " 'Tuvalu',\n",
       " 'World'}"
      ]
     },
     "execution_count": 5,
     "metadata": {},
     "output_type": "execute_result"
    }
   ],
   "source": [
    "set(data.Team1).union(set(data.Team2)) - set(ranks['Country'])"
   ]
  },
  {
   "cell_type": "code",
   "execution_count": 6,
   "metadata": {},
   "outputs": [],
   "source": [
    "idx = list(np.array(data.loc[data['Team2'] == 'World'].index))\n",
    "data = data.drop(idx[0],axis=0)\n",
    "data = data.reset_index(drop=True)"
   ]
  },
  {
   "cell_type": "code",
   "execution_count": 7,
   "metadata": {},
   "outputs": [],
   "source": [
    "ranks1 = []\n",
    "ranks2 = []\n",
    "\n",
    "points1 = []\n",
    "points2 = []\n",
    "\n",
    "for i in range(len(data)):\n",
    "    D = pd.to_datetime(data['Date/Time'][i], format='%Y-%m-%d')\n",
    "    \n",
    "    idx1 = list(np.array((ranks.loc[ranks['Date'] < D].index) & (ranks.loc[ranks['Country'] == data['Team1'][i]].index)))\n",
    "    idx2 = list(np.array((ranks.loc[ranks['Date'] < D].index) & (ranks.loc[ranks['Country'] == data['Team2'][i]].index)))\n",
    "    \n",
    "    if len(idx1)>0:\n",
    "        p1 = ranks.iloc[idx1]\n",
    "        p1 = p1.sort_values(by='Date', ascending=False)\n",
    "        p1 = p1.reset_index(drop=True)\n",
    "        \n",
    "        ranks1.append(p1.iloc[[0]]['Rank'][0])\n",
    "        points1.append(p1.iloc[[0]]['Points'][0])\n",
    "        \n",
    "    else:\n",
    "        ranks1.append(0)\n",
    "        points1.append(0)           \n",
    "        \n",
    "    if len(idx2)>0:\n",
    "        p2 = ranks.iloc[idx2]\n",
    "        p2 = p2.sort_values(by='Date', ascending=False)\n",
    "        p2 = p2.reset_index(drop=True)\n",
    "        \n",
    "        ranks2.append(p2.iloc[[0]]['Rank'][0])\n",
    "        points2.append(p2.iloc[[0]]['Points'][0])\n",
    "        \n",
    "    else:\n",
    "        ranks2.append(0)\n",
    "        points2.append(0)"
   ]
  },
  {
   "cell_type": "code",
   "execution_count": 8,
   "metadata": {},
   "outputs": [],
   "source": [
    "data[\"Ranks1\"] = ranks1\n",
    "data[\"Ranks2\"] = ranks2\n",
    "\n",
    "data[\"Points1\"] = points1\n",
    "data[\"Points2\"] = points2"
   ]
  },
  {
   "cell_type": "code",
   "execution_count": 9,
   "metadata": {},
   "outputs": [],
   "source": [
    "data.to_csv(\"Wide_WithRanks&Points_V3.csv\", index=False, encoding=\"utf-8\")"
   ]
  },
  {
   "cell_type": "code",
   "execution_count": null,
   "metadata": {},
   "outputs": [],
   "source": []
  }
 ],
 "metadata": {
  "kernelspec": {
   "display_name": "Python 3",
   "language": "python",
   "name": "python3"
  },
  "language_info": {
   "codemirror_mode": {
    "name": "ipython",
    "version": 3
   },
   "file_extension": ".py",
   "mimetype": "text/x-python",
   "name": "python",
   "nbconvert_exporter": "python",
   "pygments_lexer": "ipython3",
   "version": "3.6.7"
  }
 },
 "nbformat": 4,
 "nbformat_minor": 2
}
