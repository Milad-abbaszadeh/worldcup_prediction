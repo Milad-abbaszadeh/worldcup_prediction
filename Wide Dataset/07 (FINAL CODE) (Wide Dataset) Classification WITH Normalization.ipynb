{
 "cells": [
  {
   "cell_type": "code",
   "execution_count": 1,
   "metadata": {},
   "outputs": [],
   "source": [
    "import pandas as pd\n",
    "\n",
    "from sklearn.dummy import DummyClassifier\n",
    "\n",
    "from sklearn.ensemble import RandomForestClassifier\n",
    "from sklearn.naive_bayes import BernoulliNB\n",
    "from sklearn.tree import ExtraTreeClassifier\n",
    "from sklearn.ensemble import ExtraTreesClassifier\n",
    "from sklearn.neighbors import KNeighborsClassifier\n",
    "from sklearn.neural_network import MLPClassifier\n",
    "from sklearn.neighbors import NearestCentroid\n",
    "from sklearn.linear_model import RidgeClassifier\n",
    "from sklearn.svm import SVC\n",
    "\n",
    "from sklearn.preprocessing import MinMaxScaler\n",
    "from sklearn.preprocessing import StandardScaler"
   ]
  },
  {
   "cell_type": "code",
   "execution_count": 2,
   "metadata": {},
   "outputs": [],
   "source": [
    "data = pd.read_csv(\"Wide_WithAreaDensity_V5.csv\")"
   ]
  },
  {
   "cell_type": "markdown",
   "metadata": {},
   "source": [
    "# Duplicating"
   ]
  },
  {
   "cell_type": "code",
   "execution_count": 3,
   "metadata": {},
   "outputs": [],
   "source": [
    "data_dup = data[['Team2', 'Team1', 'Score2', 'Score1', 'Date/Time', 'nb_matches2', 'nb_matches1', 'goals_past2', 'goals_past1',\n",
    "                 'ratio_goals_past2', 'ratio_goals_past1', 'nb_wins2', 'nb_wins1', 'ratio_wins2', 'ratio_wins1', 'nb_losses2',\n",
    "                 'nb_losses1', 'ratio_losses2', 'ratio_losses1', 'nb_draws2', 'nb_draws1', 'ratio_draws2', 'ratio_draws1',\n",
    "                 'nb_wins_opp2', 'nb_wins_opp1', 'ratio_wins_opp2', 'ratio_wins_opp1', 'nb_losses_opp2', 'nb_losses_opp1',\n",
    "                 'ratio_losses_opp2', 'ratio_losses_opp1', 'nb_draws_opp2', 'nb_draws_opp1', 'ratio_draws_opp2',\n",
    "                 'ratio_draws_opp1', 'Ranks2', 'Ranks1', 'Points2', 'Points1', 'Year', 'Population2', 'Population1',\n",
    "                 'Surface2', 'Surface1', 'Density2', 'Density1']]\n",
    "data_dup.columns = ['Team1', 'Team2', 'Score1', 'Score2', 'Date/Time', 'nb_matches1', 'nb_matches2', 'goals_past1', \n",
    "                    'goals_past2', 'ratio_goals_past1', 'ratio_goals_past2', 'nb_wins1', 'nb_wins2', 'ratio_wins1',\n",
    "                    'ratio_wins2', 'nb_losses1', 'nb_losses2', 'ratio_losses1', 'ratio_losses2', 'nb_draws1', 'nb_draws2', \n",
    "                    'ratio_draws1', 'ratio_draws2', 'nb_wins_opp1', 'nb_wins_opp2', 'ratio_wins_opp1',\n",
    "                    'ratio_wins_opp2', 'nb_losses_opp1', 'nb_losses_opp2', 'ratio_losses_opp1', 'ratio_losses_opp2', \n",
    "                    'nb_draws_opp1', 'nb_draws_opp2', 'ratio_draws_opp1', 'ratio_draws_opp2', 'Ranks1', 'Ranks2', 'Points1',\n",
    "                    'Points2', 'Year', 'Population1', 'Population2', 'Surface1', 'Surface2', 'Density1', 'Density2']\n",
    "data = data.append(data_dup, ignore_index=True)"
   ]
  },
  {
   "cell_type": "markdown",
   "metadata": {},
   "source": [
    "# Split into Train and Test"
   ]
  },
  {
   "cell_type": "code",
   "execution_count": 4,
   "metadata": {},
   "outputs": [],
   "source": [
    "df_test = data.loc[data[\"Date/Time\"] >= '2018']\n",
    "df_train = data.loc[data[\"Date/Time\"] < '2018']\n",
    "\n",
    "df_train = df_train.reset_index(drop=True)\n",
    "df_test = df_test.reset_index(drop=True)"
   ]
  },
  {
   "cell_type": "markdown",
   "metadata": {},
   "source": [
    "# Get Target Vector"
   ]
  },
  {
   "cell_type": "code",
   "execution_count": 5,
   "metadata": {},
   "outputs": [],
   "source": [
    "y_train = []\n",
    "for i in range(len(df_train)):\n",
    "    if df_train['Score1'][i] > df_train['Score2'][i]:\n",
    "        y_train.append(1)\n",
    "    elif df_train['Score1'][i] < df_train['Score2'][i]:\n",
    "        y_train.append(2)\n",
    "    elif df_train['Score1'][i] == df_train['Score2'][i]:\n",
    "        y_train.append(0)\n",
    "        \n",
    "y_test = []\n",
    "for i in range(len(df_test)):\n",
    "    if df_test['Score1'][i] > df_test['Score2'][i]:\n",
    "        y_test.append(1)\n",
    "    elif df_test['Score1'][i] < df_test['Score2'][i]:\n",
    "        y_test.append(2)\n",
    "    elif df_test['Score1'][i] == df_test['Score2'][i]:\n",
    "        y_test.append(0)"
   ]
  },
  {
   "cell_type": "markdown",
   "metadata": {},
   "source": [
    "# Deleting Useless Columns: Getting X"
   ]
  },
  {
   "cell_type": "code",
   "execution_count": 6,
   "metadata": {},
   "outputs": [],
   "source": [
    "X_train = df_train.drop(['Team1','Team2','Score1','Score2','Date/Time','Year'],axis=1)\n",
    "X_test = df_test.drop(['Team1','Team2','Score1','Score2','Date/Time','Year'],axis=1)"
   ]
  },
  {
   "cell_type": "code",
   "execution_count": 7,
   "metadata": {},
   "outputs": [
    {
     "data": {
      "text/plain": [
       "Index(['Team1', 'Team2', 'Score1', 'Score2', 'Date/Time', 'nb_matches1',\n",
       "       'nb_matches2', 'goals_past1', 'goals_past2', 'ratio_goals_past1',\n",
       "       'ratio_goals_past2', 'nb_wins1', 'nb_wins2', 'ratio_wins1',\n",
       "       'ratio_wins2', 'nb_losses1', 'nb_losses2', 'ratio_losses1',\n",
       "       'ratio_losses2', 'nb_draws1', 'nb_draws2', 'ratio_draws1',\n",
       "       'ratio_draws2', 'nb_wins_opp1', 'nb_wins_opp2', 'ratio_wins_opp1',\n",
       "       'ratio_wins_opp2', 'nb_losses_opp1', 'nb_losses_opp2',\n",
       "       'ratio_losses_opp1', 'ratio_losses_opp2', 'nb_draws_opp1',\n",
       "       'nb_draws_opp2', 'ratio_draws_opp1', 'ratio_draws_opp2', 'Ranks1',\n",
       "       'Ranks2', 'Points1', 'Points2', 'Year', 'Population1', 'Population2',\n",
       "       'Surface1', 'Surface2', 'Density1', 'Density2'],\n",
       "      dtype='object')"
      ]
     },
     "execution_count": 7,
     "metadata": {},
     "output_type": "execute_result"
    }
   ],
   "source": [
    "data.columns"
   ]
  },
  {
   "cell_type": "markdown",
   "metadata": {},
   "source": [
    "# Scaling"
   ]
  },
  {
   "cell_type": "code",
   "execution_count": 8,
   "metadata": {},
   "outputs": [
    {
     "name": "stderr",
     "output_type": "stream",
     "text": [
      "C:\\Users\\ASUS\\Anaconda3\\envs\\python\\lib\\site-packages\\sklearn\\preprocessing\\data.py:625: DataConversionWarning: Data with input dtype int64, float64 were all converted to float64 by StandardScaler.\n",
      "  return self.partial_fit(X, y)\n",
      "C:\\Users\\ASUS\\Anaconda3\\envs\\python\\lib\\site-packages\\sklearn\\base.py:462: DataConversionWarning: Data with input dtype int64, float64 were all converted to float64 by StandardScaler.\n",
      "  return self.fit(X, **fit_params).transform(X)\n",
      "C:\\Users\\ASUS\\Anaconda3\\envs\\python\\lib\\site-packages\\ipykernel_launcher.py:3: DataConversionWarning: Data with input dtype int64, float64 were all converted to float64 by StandardScaler.\n",
      "  This is separate from the ipykernel package so we can avoid doing imports until\n"
     ]
    }
   ],
   "source": [
    "scaler = StandardScaler()\n",
    "X_train[['Population1', 'Population2', 'Surface1', 'Surface2', 'Density1', 'Density2', 'Points1', 'Points2']] = scaler.fit_transform(X_train[['Population1', 'Population2', 'Surface1', 'Surface2', 'Density1', 'Density2', 'Points1', 'Points2']])\n",
    "X_test[['Population1', 'Population2', 'Surface1', 'Surface2', 'Density1', 'Density2', 'Points1', 'Points2']] = scaler.transform(X_test[['Population1', 'Population2', 'Surface1', 'Surface2', 'Density1', 'Density2', 'Points1', 'Points2']])"
   ]
  },
  {
   "cell_type": "code",
   "execution_count": 9,
   "metadata": {},
   "outputs": [
    {
     "data": {
      "text/html": [
       "<div>\n",
       "<style scoped>\n",
       "    .dataframe tbody tr th:only-of-type {\n",
       "        vertical-align: middle;\n",
       "    }\n",
       "\n",
       "    .dataframe tbody tr th {\n",
       "        vertical-align: top;\n",
       "    }\n",
       "\n",
       "    .dataframe thead th {\n",
       "        text-align: right;\n",
       "    }\n",
       "</style>\n",
       "<table border=\"1\" class=\"dataframe\">\n",
       "  <thead>\n",
       "    <tr style=\"text-align: right;\">\n",
       "      <th></th>\n",
       "      <th>nb_matches1</th>\n",
       "      <th>nb_matches2</th>\n",
       "      <th>goals_past1</th>\n",
       "      <th>goals_past2</th>\n",
       "      <th>ratio_goals_past1</th>\n",
       "      <th>ratio_goals_past2</th>\n",
       "      <th>nb_wins1</th>\n",
       "      <th>nb_wins2</th>\n",
       "      <th>ratio_wins1</th>\n",
       "      <th>ratio_wins2</th>\n",
       "      <th>...</th>\n",
       "      <th>Ranks1</th>\n",
       "      <th>Ranks2</th>\n",
       "      <th>Points1</th>\n",
       "      <th>Points2</th>\n",
       "      <th>Population1</th>\n",
       "      <th>Population2</th>\n",
       "      <th>Surface1</th>\n",
       "      <th>Surface2</th>\n",
       "      <th>Density1</th>\n",
       "      <th>Density2</th>\n",
       "    </tr>\n",
       "  </thead>\n",
       "  <tbody>\n",
       "    <tr>\n",
       "      <th>0</th>\n",
       "      <td>6</td>\n",
       "      <td>3</td>\n",
       "      <td>6</td>\n",
       "      <td>1</td>\n",
       "      <td>0.750000</td>\n",
       "      <td>0.250000</td>\n",
       "      <td>2</td>\n",
       "      <td>0</td>\n",
       "      <td>0.333333</td>\n",
       "      <td>0.000000</td>\n",
       "      <td>...</td>\n",
       "      <td>107</td>\n",
       "      <td>88</td>\n",
       "      <td>-0.892233</td>\n",
       "      <td>-0.630710</td>\n",
       "      <td>-0.267507</td>\n",
       "      <td>-0.277813</td>\n",
       "      <td>-0.337637</td>\n",
       "      <td>0.338776</td>\n",
       "      <td>-0.165696</td>\n",
       "      <td>-0.287125</td>\n",
       "    </tr>\n",
       "    <tr>\n",
       "      <th>1</th>\n",
       "      <td>4</td>\n",
       "      <td>0</td>\n",
       "      <td>3</td>\n",
       "      <td>0</td>\n",
       "      <td>0.500000</td>\n",
       "      <td>0.000000</td>\n",
       "      <td>1</td>\n",
       "      <td>0</td>\n",
       "      <td>0.250000</td>\n",
       "      <td>0.000000</td>\n",
       "      <td>...</td>\n",
       "      <td>133</td>\n",
       "      <td>168</td>\n",
       "      <td>-1.138550</td>\n",
       "      <td>-1.485219</td>\n",
       "      <td>-0.312844</td>\n",
       "      <td>-0.294022</td>\n",
       "      <td>-0.373509</td>\n",
       "      <td>-0.366603</td>\n",
       "      <td>2.372307</td>\n",
       "      <td>0.038219</td>\n",
       "    </tr>\n",
       "    <tr>\n",
       "      <th>2</th>\n",
       "      <td>3</td>\n",
       "      <td>7</td>\n",
       "      <td>5</td>\n",
       "      <td>7</td>\n",
       "      <td>0.833333</td>\n",
       "      <td>0.636364</td>\n",
       "      <td>2</td>\n",
       "      <td>3</td>\n",
       "      <td>0.666667</td>\n",
       "      <td>0.428571</td>\n",
       "      <td>...</td>\n",
       "      <td>75</td>\n",
       "      <td>120</td>\n",
       "      <td>-0.475622</td>\n",
       "      <td>-0.992584</td>\n",
       "      <td>-0.256830</td>\n",
       "      <td>-0.051434</td>\n",
       "      <td>-0.339962</td>\n",
       "      <td>-0.196306</td>\n",
       "      <td>-0.130860</td>\n",
       "      <td>-0.165661</td>\n",
       "    </tr>\n",
       "    <tr>\n",
       "      <th>3</th>\n",
       "      <td>3</td>\n",
       "      <td>2</td>\n",
       "      <td>4</td>\n",
       "      <td>0</td>\n",
       "      <td>0.666667</td>\n",
       "      <td>0.000000</td>\n",
       "      <td>1</td>\n",
       "      <td>0</td>\n",
       "      <td>0.333333</td>\n",
       "      <td>0.000000</td>\n",
       "      <td>...</td>\n",
       "      <td>118</td>\n",
       "      <td>124</td>\n",
       "      <td>-0.977379</td>\n",
       "      <td>-1.029076</td>\n",
       "      <td>-0.289519</td>\n",
       "      <td>-0.125393</td>\n",
       "      <td>-0.248475</td>\n",
       "      <td>-0.159998</td>\n",
       "      <td>-0.270349</td>\n",
       "      <td>-0.215841</td>\n",
       "    </tr>\n",
       "    <tr>\n",
       "      <th>4</th>\n",
       "      <td>5</td>\n",
       "      <td>6</td>\n",
       "      <td>18</td>\n",
       "      <td>16</td>\n",
       "      <td>0.857143</td>\n",
       "      <td>0.888889</td>\n",
       "      <td>3</td>\n",
       "      <td>3</td>\n",
       "      <td>0.600000</td>\n",
       "      <td>0.500000</td>\n",
       "      <td>...</td>\n",
       "      <td>179</td>\n",
       "      <td>180</td>\n",
       "      <td>-1.558202</td>\n",
       "      <td>-1.570366</td>\n",
       "      <td>-0.320865</td>\n",
       "      <td>-0.318548</td>\n",
       "      <td>-0.368883</td>\n",
       "      <td>-0.362117</td>\n",
       "      <td>-0.259787</td>\n",
       "      <td>-0.262209</td>\n",
       "    </tr>\n",
       "  </tbody>\n",
       "</table>\n",
       "<p>5 rows × 40 columns</p>\n",
       "</div>"
      ],
      "text/plain": [
       "   nb_matches1  nb_matches2  goals_past1  goals_past2  ratio_goals_past1  \\\n",
       "0            6            3            6            1           0.750000   \n",
       "1            4            0            3            0           0.500000   \n",
       "2            3            7            5            7           0.833333   \n",
       "3            3            2            4            0           0.666667   \n",
       "4            5            6           18           16           0.857143   \n",
       "\n",
       "   ratio_goals_past2  nb_wins1  nb_wins2  ratio_wins1  ratio_wins2    ...     \\\n",
       "0           0.250000         2         0     0.333333     0.000000    ...      \n",
       "1           0.000000         1         0     0.250000     0.000000    ...      \n",
       "2           0.636364         2         3     0.666667     0.428571    ...      \n",
       "3           0.000000         1         0     0.333333     0.000000    ...      \n",
       "4           0.888889         3         3     0.600000     0.500000    ...      \n",
       "\n",
       "   Ranks1  Ranks2   Points1   Points2  Population1  Population2  Surface1  \\\n",
       "0     107      88 -0.892233 -0.630710    -0.267507    -0.277813 -0.337637   \n",
       "1     133     168 -1.138550 -1.485219    -0.312844    -0.294022 -0.373509   \n",
       "2      75     120 -0.475622 -0.992584    -0.256830    -0.051434 -0.339962   \n",
       "3     118     124 -0.977379 -1.029076    -0.289519    -0.125393 -0.248475   \n",
       "4     179     180 -1.558202 -1.570366    -0.320865    -0.318548 -0.368883   \n",
       "\n",
       "   Surface2  Density1  Density2  \n",
       "0  0.338776 -0.165696 -0.287125  \n",
       "1 -0.366603  2.372307  0.038219  \n",
       "2 -0.196306 -0.130860 -0.165661  \n",
       "3 -0.159998 -0.270349 -0.215841  \n",
       "4 -0.362117 -0.259787 -0.262209  \n",
       "\n",
       "[5 rows x 40 columns]"
      ]
     },
     "execution_count": 9,
     "metadata": {},
     "output_type": "execute_result"
    }
   ],
   "source": [
    "X_train.head()"
   ]
  },
  {
   "cell_type": "markdown",
   "metadata": {},
   "source": [
    "# Trying out Classification Algorithms"
   ]
  },
  {
   "cell_type": "code",
   "execution_count": 10,
   "metadata": {},
   "outputs": [
    {
     "data": {
      "text/plain": [
       "0.36822840409956076"
      ]
     },
     "execution_count": 10,
     "metadata": {},
     "output_type": "execute_result"
    }
   ],
   "source": [
    "model = DummyClassifier(strategy = 'most_frequent')\n",
    "model.fit(X_train, y_train)\n",
    "model.score(X_test,y_test)"
   ]
  },
  {
   "cell_type": "code",
   "execution_count": 11,
   "metadata": {},
   "outputs": [
    {
     "name": "stderr",
     "output_type": "stream",
     "text": [
      "C:\\Users\\ASUS\\Anaconda3\\envs\\python\\lib\\site-packages\\sklearn\\ensemble\\forest.py:246: FutureWarning: The default value of n_estimators will change from 10 in version 0.20 to 100 in 0.22.\n",
      "  \"10 in version 0.20 to 100 in 0.22.\", FutureWarning)\n"
     ]
    },
    {
     "data": {
      "text/plain": [
       "0.424597364568082"
      ]
     },
     "execution_count": 11,
     "metadata": {},
     "output_type": "execute_result"
    }
   ],
   "source": [
    "model = RandomForestClassifier()\n",
    "model.fit(X_train, y_train)\n",
    "model.score(X_test,y_test)"
   ]
  },
  {
   "cell_type": "code",
   "execution_count": 12,
   "metadata": {},
   "outputs": [
    {
     "data": {
      "text/plain": [
       "0.4341142020497804"
      ]
     },
     "execution_count": 12,
     "metadata": {},
     "output_type": "execute_result"
    }
   ],
   "source": [
    "model = BernoulliNB()\n",
    "model.fit(X_train, y_train)\n",
    "model.score(X_test,y_test)"
   ]
  },
  {
   "cell_type": "code",
   "execution_count": 13,
   "metadata": {},
   "outputs": [
    {
     "data": {
      "text/plain": [
       "0.369692532942899"
      ]
     },
     "execution_count": 13,
     "metadata": {},
     "output_type": "execute_result"
    }
   ],
   "source": [
    "model = ExtraTreeClassifier()\n",
    "model.fit(X_train, y_train)\n",
    "model.score(X_test,y_test)"
   ]
  },
  {
   "cell_type": "code",
   "execution_count": 14,
   "metadata": {},
   "outputs": [
    {
     "name": "stderr",
     "output_type": "stream",
     "text": [
      "C:\\Users\\ASUS\\Anaconda3\\envs\\python\\lib\\site-packages\\sklearn\\ensemble\\forest.py:246: FutureWarning: The default value of n_estimators will change from 10 in version 0.20 to 100 in 0.22.\n",
      "  \"10 in version 0.20 to 100 in 0.22.\", FutureWarning)\n"
     ]
    },
    {
     "data": {
      "text/plain": [
       "0.41874084919472915"
      ]
     },
     "execution_count": 14,
     "metadata": {},
     "output_type": "execute_result"
    }
   ],
   "source": [
    "model = ExtraTreesClassifier()\n",
    "model.fit(X_train, y_train)\n",
    "model.score(X_test,y_test)"
   ]
  },
  {
   "cell_type": "code",
   "execution_count": 15,
   "metadata": {},
   "outputs": [
    {
     "data": {
      "text/plain": [
       "0.3828696925329429"
      ]
     },
     "execution_count": 15,
     "metadata": {},
     "output_type": "execute_result"
    }
   ],
   "source": [
    "model = KNeighborsClassifier()\n",
    "model.fit(X_train, y_train)\n",
    "model.score(X_test,y_test)"
   ]
  },
  {
   "cell_type": "code",
   "execution_count": 16,
   "metadata": {},
   "outputs": [
    {
     "data": {
      "text/plain": [
       "0.4612005856515373"
      ]
     },
     "execution_count": 16,
     "metadata": {},
     "output_type": "execute_result"
    }
   ],
   "source": [
    "model = MLPClassifier()\n",
    "model.fit(X_train, y_train)\n",
    "model.score(X_test,y_test)"
   ]
  },
  {
   "cell_type": "code",
   "execution_count": 17,
   "metadata": {},
   "outputs": [
    {
     "data": {
      "text/plain": [
       "0.45095168374816985"
      ]
     },
     "execution_count": 17,
     "metadata": {},
     "output_type": "execute_result"
    }
   ],
   "source": [
    "model = NearestCentroid()\n",
    "model.fit(X_train, y_train)\n",
    "model.score(X_test,y_test)"
   ]
  },
  {
   "cell_type": "code",
   "execution_count": 18,
   "metadata": {},
   "outputs": [
    {
     "data": {
      "text/plain": [
       "0.48755490483162517"
      ]
     },
     "execution_count": 18,
     "metadata": {},
     "output_type": "execute_result"
    }
   ],
   "source": [
    "model = RidgeClassifier()\n",
    "model.fit(X_train, y_train)\n",
    "model.score(X_test,y_test)"
   ]
  },
  {
   "cell_type": "code",
   "execution_count": 19,
   "metadata": {},
   "outputs": [
    {
     "name": "stderr",
     "output_type": "stream",
     "text": [
      "C:\\Users\\ASUS\\Anaconda3\\envs\\python\\lib\\site-packages\\sklearn\\svm\\base.py:196: FutureWarning: The default value of gamma will change from 'auto' to 'scale' in version 0.22 to account better for unscaled features. Set gamma explicitly to 'auto' or 'scale' to avoid this warning.\n",
      "  \"avoid this warning.\", FutureWarning)\n"
     ]
    },
    {
     "data": {
      "text/plain": [
       "0.44216691068814057"
      ]
     },
     "execution_count": 19,
     "metadata": {},
     "output_type": "execute_result"
    }
   ],
   "source": [
    "model = SVC()\n",
    "model.fit(X_train, y_train)\n",
    "model.score(X_test,y_test)"
   ]
  },
  {
   "cell_type": "code",
   "execution_count": null,
   "metadata": {},
   "outputs": [],
   "source": []
  }
 ],
 "metadata": {
  "kernelspec": {
   "display_name": "Python 3",
   "language": "python",
   "name": "python3"
  },
  "language_info": {
   "codemirror_mode": {
    "name": "ipython",
    "version": 3
   },
   "file_extension": ".py",
   "mimetype": "text/x-python",
   "name": "python",
   "nbconvert_exporter": "python",
   "pygments_lexer": "ipython3",
   "version": "3.6.7"
  }
 },
 "nbformat": 4,
 "nbformat_minor": 2
}
