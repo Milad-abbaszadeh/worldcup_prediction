{
 "cells": [
  {
   "cell_type": "code",
   "execution_count": 1,
   "metadata": {},
   "outputs": [],
   "source": [
    "import pandas as pd\n",
    "\n",
    "from sklearn.dummy import DummyRegressor\n",
    "\n",
    "from sklearn.neural_network import MLPRegressor\n",
    "from sklearn.ensemble import GradientBoostingRegressor\n",
    "from sklearn.ensemble import RandomForestRegressor\n",
    "from sklearn.ensemble import AdaBoostRegressor\n",
    "from sklearn.ensemble import BaggingRegressor\n",
    "from sklearn.compose import TransformedTargetRegressor\n",
    "\n",
    "from sklearn.preprocessing import StandardScaler\n",
    "\n",
    "from sklearn.metrics import classification_report\n",
    "from sklearn.metrics import confusion_matrix\n",
    "from sklearn.metrics import accuracy_score"
   ]
  },
  {
   "cell_type": "code",
   "execution_count": 2,
   "metadata": {},
   "outputs": [],
   "source": [
    "data = pd.read_csv(\"Dataset-V3_2.csv\")"
   ]
  },
  {
   "cell_type": "markdown",
   "metadata": {},
   "source": [
    "# Duplicating"
   ]
  },
  {
   "cell_type": "code",
   "execution_count": 3,
   "metadata": {},
   "outputs": [
    {
     "name": "stderr",
     "output_type": "stream",
     "text": [
      "C:\\Users\\ASUS\\Anaconda3\\envs\\python\\lib\\site-packages\\pandas\\core\\frame.py:6211: FutureWarning: Sorting because non-concatenation axis is not aligned. A future version\n",
      "of pandas will change to not sort by default.\n",
      "\n",
      "To accept the future behavior, pass 'sort=False'.\n",
      "\n",
      "To retain the current behavior and silence the warning, pass 'sort=True'.\n",
      "\n",
      "  sort=sort)\n"
     ]
    }
   ],
   "source": [
    "data_dup = data[['Team2', 'Team1', 'Score2', 'Score1', 'Date/Time', 'nb_matches2', 'nb_matches1', 'goals_past2', 'goals_past1',\n",
    "                 'ratio_goals_past2', 'ratio_goals_past1', 'nb_wins2', 'nb_wins1', 'ratio_wins2', 'ratio_wins1', 'nb_losses2',\n",
    "                 'nb_losses1', 'ratio_losses2', 'ratio_losses1', 'nb_draws2', 'nb_draws1', 'ratio_draws2', 'ratio_draws1',\n",
    "                 'nb_wins_opp2', 'nb_wins_opp1', 'ratio_wins_opp2', 'ratio_wins_opp1', 'nb_losses_opp2', 'nb_losses_opp1',\n",
    "                 'ratio_losses_opp2', 'ratio_losses_opp1', 'nb_draws_opp2', 'nb_draws_opp1', 'ratio_draws_opp2',\n",
    "                 'ratio_draws_opp1']]\n",
    "data_dup.columns = ['Team1', 'Team2', 'Score1', 'Score2', 'Date/Time', 'nb_matches1', 'nb_matches2', 'goals_past1', \n",
    "                    'goals_past2', 'ratio_goals_past1', 'ratio_goals_past2', 'nb_wins1', 'nb_wins2', 'ratio_wins1',\n",
    "                    'ratio_wins2', 'nb_losses1', 'nb_losses2', 'ratio_losses1', 'ratio_losses2', 'nb_draws1', 'nb_draws2', \n",
    "                    'ratio_draws1', 'ratio_draws2', 'nb_wins_opp1', 'nb_wins_opp2', 'ratio_wins_opp1',\n",
    "                    'ratio_wins_opp2', 'nb_losses_opp1', 'nb_losses_opp2', 'ratio_losses_opp1', 'ratio_losses_opp2', \n",
    "                    'nb_draws_opp1', 'nb_draws_opp2', 'ratio_draws_opp1', 'ratio_draws_opp2']\n",
    "data = data.append(data_dup, ignore_index=True)"
   ]
  },
  {
   "cell_type": "markdown",
   "metadata": {},
   "source": [
    "# Split into Train and Test"
   ]
  },
  {
   "cell_type": "code",
   "execution_count": 4,
   "metadata": {},
   "outputs": [],
   "source": [
    "df_test = data.loc[data[\"Date/Time\"] >= '2018']\n",
    "df_train = data.loc[data[\"Date/Time\"] < '2018']\n",
    "\n",
    "df_train = df_train.reset_index(drop=True)\n",
    "df_test = df_test.reset_index(drop=True)"
   ]
  },
  {
   "cell_type": "markdown",
   "metadata": {},
   "source": [
    "# Get Target Vector"
   ]
  },
  {
   "cell_type": "code",
   "execution_count": 5,
   "metadata": {},
   "outputs": [],
   "source": [
    "y_train = []\n",
    "for i in range(len(df_train)):\n",
    "    if df_train['Score1'][i]+df_train['Score2'][i] == 0:\n",
    "        y_train.append(0)\n",
    "    else:\n",
    "        y_train.append(df_train['Score1'][i]/(df_train['Score1'][i]+df_train['Score2'][i]))\n",
    "        \n",
    "y_test = []\n",
    "for i in range(len(df_test)):\n",
    "    if df_test['Score1'][i] > df_test['Score2'][i]:\n",
    "        y_test.append(1)\n",
    "    elif df_test['Score1'][i] < df_test['Score2'][i]:\n",
    "        y_test.append(2)\n",
    "    elif df_test['Score1'][i] == df_test['Score2'][i]:\n",
    "        y_test.append(0)"
   ]
  },
  {
   "cell_type": "markdown",
   "metadata": {},
   "source": [
    "# Deleting Useless Columns: Getting X"
   ]
  },
  {
   "cell_type": "code",
   "execution_count": 6,
   "metadata": {},
   "outputs": [],
   "source": [
    "X_train = df_train.drop(['Team1','Team2','Score1','Score2','Date/Time','date_minus_1year'],axis=1)\n",
    "X_test = df_test.drop(['Team1','Team2','Score1','Score2','Date/Time','date_minus_1year'],axis=1)"
   ]
  },
  {
   "cell_type": "code",
   "execution_count": 7,
   "metadata": {},
   "outputs": [],
   "source": [
    "cols = X_train.columns"
   ]
  },
  {
   "cell_type": "markdown",
   "metadata": {},
   "source": [
    "# Scaling"
   ]
  },
  {
   "cell_type": "code",
   "execution_count": 8,
   "metadata": {},
   "outputs": [
    {
     "name": "stderr",
     "output_type": "stream",
     "text": [
      "C:\\Users\\ASUS\\Anaconda3\\envs\\python\\lib\\site-packages\\sklearn\\preprocessing\\data.py:625: DataConversionWarning: Data with input dtype int64, float64 were all converted to float64 by StandardScaler.\n",
      "  return self.partial_fit(X, y)\n",
      "C:\\Users\\ASUS\\Anaconda3\\envs\\python\\lib\\site-packages\\sklearn\\base.py:462: DataConversionWarning: Data with input dtype int64, float64 were all converted to float64 by StandardScaler.\n",
      "  return self.fit(X, **fit_params).transform(X)\n",
      "C:\\Users\\ASUS\\Anaconda3\\envs\\python\\lib\\site-packages\\ipykernel_launcher.py:3: DataConversionWarning: Data with input dtype int64, float64 were all converted to float64 by StandardScaler.\n",
      "  This is separate from the ipykernel package so we can avoid doing imports until\n"
     ]
    }
   ],
   "source": [
    "scaler = StandardScaler()\n",
    "X_train = scaler.fit_transform(X_train)\n",
    "X_test = scaler.transform(X_test)"
   ]
  },
  {
   "cell_type": "markdown",
   "metadata": {},
   "source": [
    "# Trying out Regression Algorithms"
   ]
  },
  {
   "cell_type": "code",
   "execution_count": 9,
   "metadata": {},
   "outputs": [],
   "source": [
    "def reg_to_class (y):\n",
    "    y_class = []\n",
    "    \n",
    "    for i in range(len(y)//2):\n",
    "        if abs(y[i] - y[i+len(y)//2]) < 0.05:\n",
    "            y_class.append(0)\n",
    "        elif y[i] > y[i+len(y)//2]:\n",
    "            y_class.append(1)\n",
    "        elif y[i] < y[i+len(y)//2]:\n",
    "            y_class.append(2)\n",
    "            \n",
    "    y_class2 = []\n",
    "    for i in y_class:\n",
    "        if i == 0:\n",
    "            y_class2.append(0)\n",
    "        elif i == 1:\n",
    "            y_class2.append(2)\n",
    "        elif i == 2:\n",
    "            y_class2.append(1)\n",
    "        \n",
    "    return(y_class+y_class2)"
   ]
  },
  {
   "cell_type": "code",
   "execution_count": 10,
   "metadata": {},
   "outputs": [
    {
     "data": {
      "text/plain": [
       "0.27450980392156865"
      ]
     },
     "execution_count": 10,
     "metadata": {},
     "output_type": "execute_result"
    }
   ],
   "source": [
    "model = DummyRegressor()\n",
    "model.fit(X_train, y_train)\n",
    "accuracy_score(reg_to_class(model.predict(X_test)),y_test)"
   ]
  },
  {
   "cell_type": "code",
   "execution_count": 11,
   "metadata": {},
   "outputs": [
    {
     "name": "stdout",
     "output_type": "stream",
     "text": [
      "              precision    recall  f1-score   support\n",
      "\n",
      "           0       0.27      1.00      0.43        84\n",
      "           1       0.00      0.00      0.00       111\n",
      "           2       0.00      0.00      0.00       111\n",
      "\n",
      "   micro avg       0.27      0.27      0.27       306\n",
      "   macro avg       0.09      0.33      0.14       306\n",
      "weighted avg       0.08      0.27      0.12       306\n",
      "\n"
     ]
    },
    {
     "name": "stderr",
     "output_type": "stream",
     "text": [
      "C:\\Users\\ASUS\\Anaconda3\\envs\\python\\lib\\site-packages\\sklearn\\metrics\\classification.py:1143: UndefinedMetricWarning: Precision and F-score are ill-defined and being set to 0.0 in labels with no predicted samples.\n",
      "  'precision', 'predicted', average, warn_for)\n"
     ]
    }
   ],
   "source": [
    "print(classification_report(y_test, reg_to_class(model.predict(X_test))))"
   ]
  },
  {
   "cell_type": "code",
   "execution_count": 12,
   "metadata": {},
   "outputs": [
    {
     "data": {
      "text/plain": [
       "0.4444444444444444"
      ]
     },
     "execution_count": 12,
     "metadata": {},
     "output_type": "execute_result"
    }
   ],
   "source": [
    "model = MLPRegressor(random_state=0)\n",
    "model.fit(X_train, y_train)\n",
    "accuracy_score(reg_to_class(model.predict(X_test)),y_test)"
   ]
  },
  {
   "cell_type": "code",
   "execution_count": 13,
   "metadata": {},
   "outputs": [
    {
     "data": {
      "text/plain": [
       "0.43137254901960786"
      ]
     },
     "execution_count": 13,
     "metadata": {},
     "output_type": "execute_result"
    }
   ],
   "source": [
    "model = GradientBoostingRegressor(random_state=0)\n",
    "model.fit(X_train, y_train)\n",
    "accuracy_score(reg_to_class(model.predict(X_test)),y_test)"
   ]
  },
  {
   "cell_type": "code",
   "execution_count": 14,
   "metadata": {},
   "outputs": [
    {
     "name": "stdout",
     "output_type": "stream",
     "text": [
      "goals_past1  -->  0.10378995549193121\n",
      "goals_past2  -->  0.019783605709638982\n",
      "nb_draws1  -->  0.0022573639301378345\n",
      "nb_draws2  -->  0.010155602575434958\n",
      "nb_draws_opp1  -->  8.00101005443101e-06\n",
      "nb_draws_opp2  -->  0.0007859827426925562\n",
      "nb_losses1  -->  0.018132213121641746\n",
      "nb_losses2  -->  0.031630092775952516\n",
      "nb_losses_opp1  -->  0.0\n",
      "nb_losses_opp2  -->  0.00039781456038505577\n",
      "nb_matches1  -->  0.012095320750479128\n",
      "nb_matches2  -->  0.024753101121018334\n",
      "nb_wins1  -->  0.007787286739480891\n",
      "nb_wins2  -->  0.03497671374870895\n",
      "nb_wins_opp1  -->  8.647401760895753e-05\n",
      "nb_wins_opp2  -->  5.326161354584175e-06\n",
      "ratio_draws1  -->  0.005261521090580607\n",
      "ratio_draws2  -->  0.007338137504706184\n",
      "ratio_draws_opp1  -->  0.00032188668166780235\n",
      "ratio_draws_opp2  -->  0.0002560106976991366\n",
      "ratio_goals_past1  -->  0.29044960710833306\n",
      "ratio_goals_past2  -->  0.3378333688584189\n",
      "ratio_losses1  -->  0.03930466875174667\n",
      "ratio_losses2  -->  0.04340549259696847\n",
      "ratio_losses_opp1  -->  0.0005481986570341013\n",
      "ratio_losses_opp2  -->  0.0012033356802480615\n",
      "ratio_wins1  -->  0.0015239541971584503\n",
      "ratio_wins2  -->  0.00395678772622178\n",
      "ratio_wins_opp1  -->  0.00019704854564894661\n",
      "ratio_wins_opp2  -->  0.0017551274470475682\n"
     ]
    }
   ],
   "source": [
    "for i in range(len(cols)):\n",
    "    print(cols[i], ' --> ',model.feature_importances_[i])"
   ]
  },
  {
   "cell_type": "code",
   "execution_count": 15,
   "metadata": {},
   "outputs": [
    {
     "name": "stderr",
     "output_type": "stream",
     "text": [
      "C:\\Users\\ASUS\\Anaconda3\\envs\\python\\lib\\site-packages\\sklearn\\ensemble\\forest.py:246: FutureWarning: The default value of n_estimators will change from 10 in version 0.20 to 100 in 0.22.\n",
      "  \"10 in version 0.20 to 100 in 0.22.\", FutureWarning)\n"
     ]
    },
    {
     "data": {
      "text/plain": [
       "0.3464052287581699"
      ]
     },
     "execution_count": 15,
     "metadata": {},
     "output_type": "execute_result"
    }
   ],
   "source": [
    "model = RandomForestRegressor(random_state=0)\n",
    "model.fit(X_train, y_train)\n",
    "accuracy_score(reg_to_class(model.predict(X_test)),y_test)"
   ]
  },
  {
   "cell_type": "code",
   "execution_count": 16,
   "metadata": {},
   "outputs": [
    {
     "name": "stdout",
     "output_type": "stream",
     "text": [
      "goals_past1  -->  0.07550455611713043\n",
      "goals_past2  -->  0.07435339955474304\n",
      "nb_draws1  -->  0.02169202216078449\n",
      "nb_draws2  -->  0.020815376546162605\n",
      "nb_draws_opp1  -->  0.004088587306886436\n",
      "nb_draws_opp2  -->  0.004102451680082489\n",
      "nb_losses1  -->  0.014939745491084655\n",
      "nb_losses2  -->  0.015024868779249283\n",
      "nb_losses_opp1  -->  0.0028826597926090913\n",
      "nb_losses_opp2  -->  0.0031778500874876923\n",
      "nb_matches1  -->  0.04877232620192847\n",
      "nb_matches2  -->  0.04883611653421059\n",
      "nb_wins1  -->  0.015279184264821185\n",
      "nb_wins2  -->  0.0143564717822852\n",
      "nb_wins_opp1  -->  0.003265264007770014\n",
      "nb_wins_opp2  -->  0.002996595557452301\n",
      "ratio_draws1  -->  0.051982908801523564\n",
      "ratio_draws2  -->  0.04861535359457022\n",
      "ratio_draws_opp1  -->  0.004907559217871648\n",
      "ratio_draws_opp2  -->  0.004828086392187717\n",
      "ratio_goals_past1  -->  0.1398602351244012\n",
      "ratio_goals_past2  -->  0.14031902716017836\n",
      "ratio_losses1  -->  0.058489055254796286\n",
      "ratio_losses2  -->  0.05859471077975913\n",
      "ratio_losses_opp1  -->  0.004602623444818458\n",
      "ratio_losses_opp2  -->  0.0047336868172955775\n",
      "ratio_wins1  -->  0.05320753069584057\n",
      "ratio_wins2  -->  0.05088204764380637\n",
      "ratio_wins_opp1  -->  0.004501959414646442\n",
      "ratio_wins_opp2  -->  0.0043877397936165005\n"
     ]
    }
   ],
   "source": [
    "for i in range(len(cols)):\n",
    "    print(cols[i], ' --> ',model.feature_importances_[i])"
   ]
  },
  {
   "cell_type": "code",
   "execution_count": 17,
   "metadata": {},
   "outputs": [
    {
     "data": {
      "text/plain": [
       "0.39869281045751637"
      ]
     },
     "execution_count": 17,
     "metadata": {},
     "output_type": "execute_result"
    }
   ],
   "source": [
    "model = AdaBoostRegressor(random_state=0)\n",
    "model.fit(X_train, y_train)\n",
    "accuracy_score(reg_to_class(model.predict(X_test)),y_test)"
   ]
  },
  {
   "cell_type": "code",
   "execution_count": 18,
   "metadata": {},
   "outputs": [
    {
     "name": "stdout",
     "output_type": "stream",
     "text": [
      "goals_past1  -->  0.025814417721173266\n",
      "goals_past2  -->  0.007700289716484332\n",
      "nb_draws1  -->  0.0\n",
      "nb_draws2  -->  0.0\n",
      "nb_draws_opp1  -->  0.0\n",
      "nb_draws_opp2  -->  0.0\n",
      "nb_losses1  -->  0.0\n",
      "nb_losses2  -->  0.0\n",
      "nb_losses_opp1  -->  0.0\n",
      "nb_losses_opp2  -->  0.0\n",
      "nb_matches1  -->  0.0\n",
      "nb_matches2  -->  0.0\n",
      "nb_wins1  -->  0.0\n",
      "nb_wins2  -->  0.0\n",
      "nb_wins_opp1  -->  0.0\n",
      "nb_wins_opp2  -->  0.0\n",
      "ratio_draws1  -->  0.0\n",
      "ratio_draws2  -->  0.0\n",
      "ratio_draws_opp1  -->  0.0\n",
      "ratio_draws_opp2  -->  0.0\n",
      "ratio_goals_past1  -->  0.4467497493466612\n",
      "ratio_goals_past2  -->  0.5008912947695241\n",
      "ratio_losses1  -->  0.0\n",
      "ratio_losses2  -->  0.018844248446156984\n",
      "ratio_losses_opp1  -->  0.0\n",
      "ratio_losses_opp2  -->  0.0\n",
      "ratio_wins1  -->  0.0\n",
      "ratio_wins2  -->  0.0\n",
      "ratio_wins_opp1  -->  0.0\n",
      "ratio_wins_opp2  -->  0.0\n"
     ]
    }
   ],
   "source": [
    "for i in range(len(cols)):\n",
    "    print(cols[i], ' --> ',model.feature_importances_[i])"
   ]
  },
  {
   "cell_type": "code",
   "execution_count": 19,
   "metadata": {},
   "outputs": [
    {
     "data": {
      "text/plain": [
       "0.37254901960784315"
      ]
     },
     "execution_count": 19,
     "metadata": {},
     "output_type": "execute_result"
    }
   ],
   "source": [
    "model = BaggingRegressor(random_state=0)\n",
    "model.fit(X_train, y_train)\n",
    "accuracy_score(reg_to_class(model.predict(X_test)),y_test)"
   ]
  },
  {
   "cell_type": "code",
   "execution_count": 20,
   "metadata": {},
   "outputs": [
    {
     "data": {
      "text/plain": [
       "0.41830065359477125"
      ]
     },
     "execution_count": 20,
     "metadata": {},
     "output_type": "execute_result"
    }
   ],
   "source": [
    "model = TransformedTargetRegressor()\n",
    "model.fit(X_train, y_train)\n",
    "accuracy_score(reg_to_class(model.predict(X_test)),y_test)"
   ]
  },
  {
   "cell_type": "code",
   "execution_count": null,
   "metadata": {},
   "outputs": [],
   "source": []
  }
 ],
 "metadata": {
  "kernelspec": {
   "display_name": "Python 3",
   "language": "python",
   "name": "python3"
  },
  "language_info": {
   "codemirror_mode": {
    "name": "ipython",
    "version": 3
   },
   "file_extension": ".py",
   "mimetype": "text/x-python",
   "name": "python",
   "nbconvert_exporter": "python",
   "pygments_lexer": "ipython3",
   "version": "3.6.7"
  }
 },
 "nbformat": 4,
 "nbformat_minor": 2
}
